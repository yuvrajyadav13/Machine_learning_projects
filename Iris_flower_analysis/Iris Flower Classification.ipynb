{
 "cells": [
  {
   "cell_type": "markdown",
   "metadata": {},
   "source": [
    "## Importing Modules"
   ]
  },
  {
   "cell_type": "code",
   "execution_count": 31,
   "metadata": {
    "ExecuteTime": {
     "end_time": "2019-12-13T15:20:53.145117Z",
     "start_time": "2019-12-13T15:20:53.138875Z"
    }
   },
   "outputs": [],
   "source": [
    "import numpy as np\n",
    "import pandas as pd\n",
    "import matplotlib.pyplot as plt\n",
    "import math\n",
    "from sklearn.model_selection import train_test_split\n",
    "import operator"
   ]
  },
  {
   "cell_type": "markdown",
   "metadata": {},
   "source": [
    "## Importing data from sklearn Iris dataset"
   ]
  },
  {
   "cell_type": "code",
   "execution_count": 13,
   "metadata": {
    "ExecuteTime": {
     "end_time": "2019-12-13T15:04:51.539170Z",
     "start_time": "2019-12-13T15:04:51.492889Z"
    }
   },
   "outputs": [],
   "source": [
    "data = pd.read_csv(\"Iris.csv\")"
   ]
  },
  {
   "cell_type": "code",
   "execution_count": 61,
   "metadata": {
    "ExecuteTime": {
     "end_time": "2019-12-13T15:52:59.234534Z",
     "start_time": "2019-12-13T15:52:59.217189Z"
    }
   },
   "outputs": [
    {
     "name": "stdout",
     "output_type": "stream",
     "text": [
      "      Id  SepalLengthCm  SepalWidthCm  PetalLengthCm  PetalWidthCm  \\\n",
      "37    38            4.9           3.1            1.5           0.1   \n",
      "46    47            5.1           3.8            1.6           0.2   \n",
      "123  124            6.3           2.7            4.9           1.8   \n",
      "9     10            4.9           3.1            1.5           0.1   \n",
      "109  110            7.2           3.6            6.1           2.5   \n",
      "\n",
      "            Species  \n",
      "37      Iris-setosa  \n",
      "46      Iris-setosa  \n",
      "123  Iris-virginica  \n",
      "9       Iris-setosa  \n",
      "109  Iris-virginica  \n"
     ]
    }
   ],
   "source": [
    "data.head(5)\n",
    "data = data.sample(frac = 1)\n",
    "print(data.head())"
   ]
  },
  {
   "cell_type": "markdown",
   "metadata": {},
   "source": [
    "## Creating Training and Testing Datasets"
   ]
  },
  {
   "cell_type": "code",
   "execution_count": 62,
   "metadata": {
    "ExecuteTime": {
     "end_time": "2019-12-13T15:53:12.888316Z",
     "start_time": "2019-12-13T15:53:12.881559Z"
    }
   },
   "outputs": [],
   "source": [
    "train = np.array (data[ : 97])\n",
    "test = np.array (data[97: ])"
   ]
  },
  {
   "cell_type": "code",
   "execution_count": 63,
   "metadata": {
    "ExecuteTime": {
     "end_time": "2019-12-13T15:53:13.245672Z",
     "start_time": "2019-12-13T15:53:13.237909Z"
    }
   },
   "outputs": [
    {
     "name": "stdout",
     "output_type": "stream",
     "text": [
      "97 53\n"
     ]
    }
   ],
   "source": [
    "print(len(train), len(test))"
   ]
  },
  {
   "cell_type": "markdown",
   "metadata": {
    "ExecuteTime": {
     "end_time": "2019-12-13T15:55:01.908689Z",
     "start_time": "2019-12-13T15:55:01.904906Z"
    }
   },
   "source": [
    "## Writing KNN algorithm"
   ]
  },
  {
   "cell_type": "code",
   "execution_count": 64,
   "metadata": {
    "ExecuteTime": {
     "end_time": "2019-12-13T15:53:14.225232Z",
     "start_time": "2019-12-13T15:53:14.220296Z"
    }
   },
   "outputs": [],
   "source": [
    "def euclidean_distance(instance1, instance2, length):\n",
    "    distance = 0\n",
    "    for x in range(length):\n",
    "        distance += pow(instance1[x] - instance2[x], 2)\n",
    "    return math.sqrt(distance)"
   ]
  },
  {
   "cell_type": "code",
   "execution_count": 65,
   "metadata": {
    "ExecuteTime": {
     "end_time": "2019-12-13T15:53:14.729818Z",
     "start_time": "2019-12-13T15:53:14.721714Z"
    }
   },
   "outputs": [
    {
     "data": {
      "text/plain": [
       "1.7320508075688772"
      ]
     },
     "execution_count": 65,
     "metadata": {},
     "output_type": "execute_result"
    }
   ],
   "source": [
    "data1 = [2,2,2,'a']\n",
    "data2 = [3,3,3,'b']\n",
    "\n",
    "euclidean_distance(data1, data2, 3)"
   ]
  },
  {
   "cell_type": "code",
   "execution_count": 66,
   "metadata": {
    "ExecuteTime": {
     "end_time": "2019-12-13T15:53:15.145080Z",
     "start_time": "2019-12-13T15:53:15.133567Z"
    }
   },
   "outputs": [],
   "source": [
    "def get_neighbors(train, test, k):\n",
    "    distance = []\n",
    "    length = len(test) -1\n",
    "    for x in range(len(train)):\n",
    "        dist = euclidean_distance(test, train[x], length)\n",
    "        distance.append((train[x], dist))\n",
    "    distance.sort(key = operator.itemgetter(1))\n",
    "    neighbors = []\n",
    "    for x in range(k):\n",
    "        neighbors.append(distance[x][0])\n",
    "    return neighbors"
   ]
  },
  {
   "cell_type": "code",
   "execution_count": 67,
   "metadata": {
    "ExecuteTime": {
     "end_time": "2019-12-13T15:53:15.567855Z",
     "start_time": "2019-12-13T15:53:15.561243Z"
    }
   },
   "outputs": [
    {
     "data": {
      "text/plain": [
       "[[3, 3, 3, 'b']]"
      ]
     },
     "execution_count": 67,
     "metadata": {},
     "output_type": "execute_result"
    }
   ],
   "source": [
    "data1 = [[2,2,2,'a'],[3,3,3,'b']]\n",
    "data2 = [4,4,4]\n",
    "k = 1\n",
    "get_neighbors(data1, data2, k)"
   ]
  },
  {
   "cell_type": "code",
   "execution_count": 68,
   "metadata": {
    "ExecuteTime": {
     "end_time": "2019-12-13T15:53:16.019236Z",
     "start_time": "2019-12-13T15:53:16.013555Z"
    }
   },
   "outputs": [],
   "source": [
    "def get_response(neighbors):\n",
    "    class_votes = {}\n",
    "    for x in range(len(neighbors)):\n",
    "        response = neighbors[x][-1]\n",
    "        if(response in class_votes):\n",
    "            class_votes[response] += 1\n",
    "        else:\n",
    "            class_votes[response] = 1\n",
    "    sorted_votes = sorted(class_votes.items(), key = operator.itemgetter(1), reverse = True)\n",
    "    return sorted_votes[0][0]"
   ]
  },
  {
   "cell_type": "code",
   "execution_count": 69,
   "metadata": {
    "ExecuteTime": {
     "end_time": "2019-12-13T15:53:16.380187Z",
     "start_time": "2019-12-13T15:53:16.374088Z"
    }
   },
   "outputs": [
    {
     "data": {
      "text/plain": [
       "'a'"
      ]
     },
     "execution_count": 69,
     "metadata": {},
     "output_type": "execute_result"
    }
   ],
   "source": [
    "data1 = [[2,2,2,'a'],[3,3,3,'a'],[4,4,4,'b']]\n",
    "get_response(data1)"
   ]
  },
  {
   "cell_type": "code",
   "execution_count": 70,
   "metadata": {
    "ExecuteTime": {
     "end_time": "2019-12-13T15:53:16.773922Z",
     "start_time": "2019-12-13T15:53:16.765528Z"
    }
   },
   "outputs": [],
   "source": [
    "def get_accuracy(test, prediction):\n",
    "    correct = 0\n",
    "    for x in range(len(test)):\n",
    "        if(test[x][-1] == prediction[x]):\n",
    "            correct += 1\n",
    "    return (correct / float(len(test)))*100"
   ]
  },
  {
   "cell_type": "code",
   "execution_count": 71,
   "metadata": {
    "ExecuteTime": {
     "end_time": "2019-12-13T15:53:17.183519Z",
     "start_time": "2019-12-13T15:53:17.173527Z"
    }
   },
   "outputs": [
    {
     "data": {
      "text/plain": [
       "66.66666666666666"
      ]
     },
     "execution_count": 71,
     "metadata": {},
     "output_type": "execute_result"
    }
   ],
   "source": [
    "data1 = [[2,2,2,'a'],[3,3,3,'a'],[4,4,4,'b']]\n",
    "prediction = [\"a\",\"a\",\"a\"]\n",
    "get_accuracy(data1, prediction)"
   ]
  },
  {
   "cell_type": "markdown",
   "metadata": {},
   "source": [
    "# Testing KNN Algorithm"
   ]
  },
  {
   "cell_type": "code",
   "execution_count": 72,
   "metadata": {
    "ExecuteTime": {
     "end_time": "2019-12-13T15:53:17.650099Z",
     "start_time": "2019-12-13T15:53:17.589830Z"
    }
   },
   "outputs": [
    {
     "name": "stdout",
     "output_type": "stream",
     "text": [
      ">PredictedIris-versicolor   >actualIris-versicolor\n",
      ">PredictedIris-virginica   >actualIris-virginica\n",
      ">PredictedIris-setosa   >actualIris-setosa\n",
      ">PredictedIris-setosa   >actualIris-setosa\n",
      ">PredictedIris-virginica   >actualIris-virginica\n",
      ">PredictedIris-virginica   >actualIris-virginica\n",
      ">PredictedIris-virginica   >actualIris-virginica\n",
      ">PredictedIris-versicolor   >actualIris-versicolor\n",
      ">PredictedIris-setosa   >actualIris-setosa\n",
      ">PredictedIris-setosa   >actualIris-setosa\n",
      ">PredictedIris-virginica   >actualIris-virginica\n",
      ">PredictedIris-setosa   >actualIris-setosa\n",
      ">PredictedIris-versicolor   >actualIris-versicolor\n",
      ">PredictedIris-virginica   >actualIris-virginica\n",
      ">PredictedIris-virginica   >actualIris-virginica\n",
      ">PredictedIris-setosa   >actualIris-setosa\n",
      ">PredictedIris-setosa   >actualIris-setosa\n",
      ">PredictedIris-virginica   >actualIris-virginica\n",
      ">PredictedIris-virginica   >actualIris-virginica\n",
      ">PredictedIris-virginica   >actualIris-virginica\n",
      ">PredictedIris-virginica   >actualIris-virginica\n",
      ">PredictedIris-setosa   >actualIris-setosa\n",
      ">PredictedIris-versicolor   >actualIris-versicolor\n",
      ">PredictedIris-versicolor   >actualIris-versicolor\n",
      ">PredictedIris-versicolor   >actualIris-versicolor\n",
      ">PredictedIris-setosa   >actualIris-setosa\n",
      ">PredictedIris-virginica   >actualIris-virginica\n",
      ">PredictedIris-versicolor   >actualIris-versicolor\n",
      ">PredictedIris-versicolor   >actualIris-versicolor\n",
      ">PredictedIris-virginica   >actualIris-virginica\n",
      ">PredictedIris-versicolor   >actualIris-versicolor\n",
      ">PredictedIris-versicolor   >actualIris-versicolor\n",
      ">PredictedIris-versicolor   >actualIris-versicolor\n",
      ">PredictedIris-virginica   >actualIris-virginica\n",
      ">PredictedIris-setosa   >actualIris-setosa\n",
      ">PredictedIris-virginica   >actualIris-virginica\n",
      ">PredictedIris-virginica   >actualIris-virginica\n",
      ">PredictedIris-versicolor   >actualIris-versicolor\n",
      ">PredictedIris-versicolor   >actualIris-versicolor\n",
      ">PredictedIris-versicolor   >actualIris-versicolor\n",
      ">PredictedIris-versicolor   >actualIris-versicolor\n",
      ">PredictedIris-virginica   >actualIris-virginica\n",
      ">PredictedIris-setosa   >actualIris-setosa\n",
      ">PredictedIris-versicolor   >actualIris-versicolor\n",
      ">PredictedIris-versicolor   >actualIris-versicolor\n",
      ">PredictedIris-virginica   >actualIris-virginica\n",
      ">PredictedIris-setosa   >actualIris-setosa\n",
      ">PredictedIris-setosa   >actualIris-setosa\n",
      ">PredictedIris-versicolor   >actualIris-versicolor\n",
      ">PredictedIris-versicolor   >actualIris-versicolor\n",
      ">PredictedIris-virginica   >actualIris-virginica\n",
      ">PredictedIris-setosa   >actualIris-setosa\n",
      ">PredictedIris-versicolor   >actualIris-versicolor\n",
      "100.0\n"
     ]
    }
   ],
   "source": [
    "if (__name__ == \"__main__\"):\n",
    "    prediction = []\n",
    "    for x in range(len(test)):\n",
    "        neighbors = get_neighbors(train, test[x], k)\n",
    "        result = get_response(neighbors)\n",
    "        prediction.append(result)\n",
    "        print(\">Predicted\"+str(result)+\"   >actual\"+str(test[x][-1]))\n",
    "    print(get_accuracy(test, prediction))\n",
    "        "
   ]
  },
  {
   "cell_type": "markdown",
   "metadata": {},
   "source": [
    "# Conclusion"
   ]
  },
  {
   "cell_type": "markdown",
   "metadata": {},
   "source": [
    "Our KNN algorithm gave a accuracy of 100% on Iris Dataset, which is kind of unbeliveable though!!!"
   ]
  },
  {
   "cell_type": "code",
   "execution_count": null,
   "metadata": {},
   "outputs": [],
   "source": []
  }
 ],
 "metadata": {
  "kernelspec": {
   "display_name": "Python 3",
   "language": "python",
   "name": "python3"
  },
  "language_info": {
   "codemirror_mode": {
    "name": "ipython",
    "version": 3
   },
   "file_extension": ".py",
   "mimetype": "text/x-python",
   "name": "python",
   "nbconvert_exporter": "python",
   "pygments_lexer": "ipython3",
   "version": "3.6.8"
  }
 },
 "nbformat": 4,
 "nbformat_minor": 2
}
